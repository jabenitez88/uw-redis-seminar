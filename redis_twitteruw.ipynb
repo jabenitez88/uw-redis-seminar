{
 "cells": [
  {
   "cell_type": "markdown",
   "metadata": {},
   "source": [
    "# Key-value Database (Redis)\n",
    "\n",
    "Author: José Alberto Benítez Andrades - <a href=\"mailto:jbena@unileon.es\">jbena@unileon.es</a><br>\n",
    "\n",
    "## Reduced wording\n",
    "\n",
    "There are three parts to the development of the work:\n",
    "- Implement the design of the database by means of functions that allow the insertion of new data.\n",
    "- Populate the previously designed database.\n",
    "- Define functions to carry out tests to check its correct operation.\n",
    "\n",
    "The details of each section are given below.\n",
    "\n",
    "### 1. Database design\n",
    "\n",
    "A number of functions are requested to mimic the operation of Twitter using a key-value database in Redis:\n",
    "\n",
    "**new_user**: Will receive the name of the new user, generate a new entry using an incremental identifier (provided by Redis) for each user.<br>.\n",
    "The structure will be of the form user:id where id is the user identifier. In addition, for each user the user name will be stored.<br> <br>\n",
    "It is also recommended to store all users together with their identifiers in a single structure whose key can be \"users\".\n",
    "\n",
    "**Proposed solution**: We propose to generate a hashmap *users* in which we will search if the user already exists. <br>\n",
    "In case the user does not exist in the dbdd, we will increment a variable one by one that will be used to assign the *id* to the new user, it will be called *user_id*.<br>\n",
    "In this way we will store in a hashmap called *users* a key-value of the type *username:user_id*.<br>\n",
    "After this, we will generate a key of type *user:user_id* in which we will store *name:username*, also in a hashmap.\n",
    "I have chosen to use hashmaps because this time we don't need to get the data in a sorted way at any point."
   ]
  },
  {
   "cell_type": "code",
   "execution_count": 1,
   "metadata": {},
   "outputs": [],
   "source": [
    "import redis\n",
    "import time\n",
    "import logging\n",
    "\n",
    "redis_db=redis.Redis(host='127.0.0.1',port=6379, password='', decode_responses=True)"
   ]
  },
  {
   "cell_type": "code",
   "execution_count": 2,
   "metadata": {},
   "outputs": [],
   "source": [
    "def new_user(username):\n",
    "    if(redis_db.hget('users',username) == None):\n",
    "        user_id = redis_db.incr('user_id',1)\n",
    "        redis_db.hset('users',mapping={username:user_id})\n",
    "        \n",
    "        key = \"user:\"+str(user_id)\n",
    "        redis_db.hset(key,mapping={\"name\":username})\n",
    "    else:\n",
    "        logging.error(f\"User {username} exists.\")"
   ]
  },
  {
   "cell_type": "markdown",
   "metadata": {},
   "source": [
    "**new_follower**: You will receive two usernames. The first one will correspond to a *followed* user and the second one will correspond to the *follower*.<br>\n",
    "You will also receive a third variable that will correspond to a \"timestamp\".<br>\n",
    "It is recommended to use key names of the style *followers:id* where *id* is the identifier of the user being followed.<br> <br>\n",
    "The structure will contain for each user a set of tuples that will store the *follower* along with a *timestamp* corresponding to the time at which their follower followed them.\n",
    "\n",
    "**Proposed solution**: After receiving the followed user (*followed*) and the follower (*follower*) we first check if the user name exists in our database.\n",
    "If it does, the identifiers of both *followed_id* and *follower_id* are obtained.\n",
    "After this, we check if the follower was already following the followed user using *redis_db.zscore*.<br>\n",
    "For this occasion, an ordered set of items has been used, as later on it will be requested to receive a list ordered by date of following.\n",
    "\n",
    "For **new_following** something similar to new_follower is requested but to store the people a user follows. For this reason we choose the same structure as *new_follower*.\n",
    "\n",
    "And both functions are inserted inside a function called **follow** because we are told that the functions *new_follower* and *new_following* can only be called from *follow*."
   ]
  },
  {
   "cell_type": "code",
   "execution_count": 3,
   "metadata": {},
   "outputs": [],
   "source": [
    "def follow(follower,followed,ts):\n",
    "    def new_follower(followed,follower,timestamp):\n",
    "        followed_id = redis_db.hget('users',followed)\n",
    "        if(followed_id != None):\n",
    "            follower_id = redis_db.hget('users',follower)\n",
    "            if(follower_id != None):        \n",
    "                key = \"followers:\"+followed_id\n",
    "                if(redis_db.zscore('followers:'+followed_id,follower_id) == None):\n",
    "                    redis_db.zadd(key,mapping={follower_id:timestamp})\n",
    "                else:\n",
    "                    logging.error(f\"User {followed} was already followed by {follower}.\")\n",
    "            else:\n",
    "                logging.error(f\"User {follower} doesn't exist.\")\n",
    "        else:\n",
    "            logging.error(f\"User {followed} doesn't exist..\")\n",
    "    def new_following(follower,followed,timestamp):\n",
    "        follower_id = redis_db.hget('users',follower)\n",
    "        if(follower_id != None):\n",
    "            followed_id = redis_db.hget('users',followed)\n",
    "            if(followed_id != None):\n",
    "                key = \"following:\"+follower_id\n",
    "                if(redis_db.zscore('following:'+follower_id,followed_id) == None):\n",
    "                    redis_db.zadd(key,mapping={followed_id:timestamp})\n",
    "                else:\n",
    "                    logging.error(f\"User{follower} was already following {followed}.\")\n",
    "            else:\n",
    "                logging.error(f\"User {followed} doesn't exist.\")\n",
    "        else:\n",
    "            logging.error(f\"User {follower} doesn't exist.\")\n",
    "    new_follower(followed,follower,ts)\n",
    "    new_following(follower,followed,ts)"
   ]
  },
  {
   "cell_type": "markdown",
   "metadata": {},
   "source": [
    "**new_post**: This function will be used to add posts/tweets to the database. It will receive as parameters: (i) user who generates the message, (ii) message body and (iii) timestamp with the creation time of the message.<br>.\n",
    "For each message, a key will be created whose name follows the structure *post:post_id*, where *post_id* will be another incremental counter different from the users' one.\n",
    "This structure will store, for each post, the id of the user who generates it, the message and the time of creation. But for this, a structure of type *posts:id* will be created where *id* is the user id.\n",
    "In addition, this list will store not only the posts written by the user himself, but also those written by the people he follows. This would completely simulate the twitter timeline.\n",
    "\n",
    "**Proposed solution:** This time we first check if the user sending the message exists.\n",
    "If it does, we increment our post_id variable by one unit.\n",
    "After that, we store in our *post* hashmap structure the following: post:post_id storing 'sender':sender_id, 'message':message, 'timestamp':timestamp.<br>\n",
    "On the other hand, a search of the followers is made using *redis_db.zrangebyscore* to which we pass not only the identifier of the one who creates the message, but also the time of creation of the message. This allows us to obtain those folllowers who were actually followers before the user sent the message. In this way we avoid including tweets in the timeline (TL) of users who followed this user after the creation of the message. Although the statement tells us to handle this in the function \"get_timeline\", I found it much more efficient to do a single check when inserting the tweet. In the other way, we would have to make many more checks, in each TL of each user when calling get_timeline.\n",
    "After this, we go through each follower and add as a sorted set *posts:follower_id* and inside *post_id:timestamp*.<br>\n",
    "We also add it in the sender's own TL.\n",
    "We choose ordered set for *posts* because we will have to get ordered lists later."
   ]
  },
  {
   "cell_type": "code",
   "execution_count": 4,
   "metadata": {},
   "outputs": [],
   "source": [
    "def new_post(sender,message,ts):\n",
    "    sender_id = redis_db.hget('users',sender)\n",
    "    if(sender_id != None):\n",
    "        post_id = redis_db.incr('post_id',1)\n",
    "        redis_db.hset('post:'+str(post_id),mapping={'sender':sender_id,'message':message,'timestamp':ts})\n",
    "        followers = redis_db.zrangebyscore('followers:'+sender_id,0,ts)\n",
    "        if(followers != None):\n",
    "            for key in followers:\n",
    "                redis_db.zadd('posts:'+str(key),mapping={post_id:ts})\n",
    "        redis_db.zadd('posts:'+str(sender_id),mapping={post_id:ts})\n",
    "    else:\n",
    "        logging.error(\"The user sending the message does not exist\")"
   ]
  },
  {
   "cell_type": "markdown",
   "metadata": {},
   "source": [
    "In the statement we are told that we can also send as a variable the database where we want to make all these modifications.\n",
    "In this case, I think it is not necessary to send it as a variable because by modifying the value of redis_db as a global variable, we can also choose which database we want to write to.<br>\n",
    "It is true that, if we include the db as a parameter of the functions, we could have, for example, declared several databases in several variables and send the one we need at each moment to each function.<br>\n",
    "However, for the current exercise, I decide to keep it this way in order not to have to send one more parameter in each function, even knowing that it has its advantages if it is a practice in which several databases are used.\n",
    "\n",
    "Finally, the structure that is formed is as follows:\n",
    "\n",
    "<img src=\"images/diagram.jpg\" width=\"700\" />"
   ]
  },
  {
   "cell_type": "markdown",
   "metadata": {},
   "source": [
    "### 2. Data set\n",
    "\n",
    "In this section we are shown the content of two files, *twitter_sample.csv* and *relations.csv*.<br>\n",
    "The first file contains 111 tweets with the columns: user, Post_Time and Tweet_Content.<br>\n",
    "The second file contains 22 relations with the columns: User, Follows and Following_Time.<br>\n",
    "<br>\n",
    "One of the steps to be taken to populate the database is to insert all the existing users in both files. To do this we execute the following cells.<br> <br> <br>\n",
    "First we must load the csv using pandas and we must \"clean\" those tweets that, for example, do not have a user who sends it (there is one in this list of 111)."
   ]
  },
  {
   "cell_type": "code",
   "execution_count": 5,
   "metadata": {},
   "outputs": [],
   "source": [
    "import pandas as pd\n",
    "twsample = pd.read_csv('twitter_sample.csv')\n",
    "relations = pd.read_csv('relations.csv')"
   ]
  },
  {
   "cell_type": "code",
   "execution_count": 6,
   "metadata": {},
   "outputs": [
    {
     "data": {
      "text/html": [
       "<div>\n",
       "<style scoped>\n",
       "    .dataframe tbody tr th:only-of-type {\n",
       "        vertical-align: middle;\n",
       "    }\n",
       "\n",
       "    .dataframe tbody tr th {\n",
       "        vertical-align: top;\n",
       "    }\n",
       "\n",
       "    .dataframe thead th {\n",
       "        text-align: right;\n",
       "    }\n",
       "</style>\n",
       "<table border=\"1\" class=\"dataframe\">\n",
       "  <thead>\n",
       "    <tr style=\"text-align: right;\">\n",
       "      <th></th>\n",
       "      <th>User</th>\n",
       "      <th>Post_Time</th>\n",
       "      <th>Tweet_Content</th>\n",
       "    </tr>\n",
       "  </thead>\n",
       "  <tbody>\n",
       "    <tr>\n",
       "      <th>0</th>\n",
       "      <td>andyglittle</td>\n",
       "      <td>13 Jul 2019 05:59:58</td>\n",
       "      <td>We've loved being motivated by the stories of ...</td>\n",
       "    </tr>\n",
       "    <tr>\n",
       "      <th>1</th>\n",
       "      <td>andyglittle</td>\n",
       "      <td>05 Jul 2019 10:07:29</td>\n",
       "      <td>Thanks for the shout-out on our #MorethanMedic...</td>\n",
       "    </tr>\n",
       "  </tbody>\n",
       "</table>\n",
       "</div>"
      ],
      "text/plain": [
       "          User             Post_Time  \\\n",
       "0  andyglittle  13 Jul 2019 05:59:58   \n",
       "1  andyglittle  05 Jul 2019 10:07:29   \n",
       "\n",
       "                                       Tweet_Content  \n",
       "0  We've loved being motivated by the stories of ...  \n",
       "1  Thanks for the shout-out on our #MorethanMedic...  "
      ]
     },
     "execution_count": 6,
     "metadata": {},
     "output_type": "execute_result"
    }
   ],
   "source": [
    "twsample = twsample.drop(['Unnamed: 3'],axis=True)\n",
    "twsample.dropna(inplace=True)\n",
    "twsample.head(2)"
   ]
  },
  {
   "cell_type": "code",
   "execution_count": 7,
   "metadata": {},
   "outputs": [
    {
     "data": {
      "text/html": [
       "<div>\n",
       "<style scoped>\n",
       "    .dataframe tbody tr th:only-of-type {\n",
       "        vertical-align: middle;\n",
       "    }\n",
       "\n",
       "    .dataframe tbody tr th {\n",
       "        vertical-align: top;\n",
       "    }\n",
       "\n",
       "    .dataframe thead th {\n",
       "        text-align: right;\n",
       "    }\n",
       "</style>\n",
       "<table border=\"1\" class=\"dataframe\">\n",
       "  <thead>\n",
       "    <tr style=\"text-align: right;\">\n",
       "      <th></th>\n",
       "      <th>User</th>\n",
       "      <th>Follows</th>\n",
       "      <th>Following_Time</th>\n",
       "    </tr>\n",
       "  </thead>\n",
       "  <tbody>\n",
       "    <tr>\n",
       "      <th>0</th>\n",
       "      <td>roxanefeller</td>\n",
       "      <td>cathcooney</td>\n",
       "      <td>13 Jun 2019 05:59:58</td>\n",
       "    </tr>\n",
       "    <tr>\n",
       "      <th>1</th>\n",
       "      <td>andyglittle</td>\n",
       "      <td>charleskod</td>\n",
       "      <td>14 Jul 2019 10:07:29</td>\n",
       "    </tr>\n",
       "  </tbody>\n",
       "</table>\n",
       "</div>"
      ],
      "text/plain": [
       "           User     Follows        Following_Time\n",
       "0  roxanefeller  cathcooney  13 Jun 2019 05:59:58\n",
       "1   andyglittle  charleskod  14 Jul 2019 10:07:29"
      ]
     },
     "execution_count": 7,
     "metadata": {},
     "output_type": "execute_result"
    }
   ],
   "source": [
    "relations.head(2)"
   ]
  },
  {
   "cell_type": "markdown",
   "metadata": {},
   "source": [
    "We convert the dates to timestamp in order to store them in our database."
   ]
  },
  {
   "cell_type": "code",
   "execution_count": 8,
   "metadata": {},
   "outputs": [
    {
     "data": {
      "text/html": [
       "<div>\n",
       "<style scoped>\n",
       "    .dataframe tbody tr th:only-of-type {\n",
       "        vertical-align: middle;\n",
       "    }\n",
       "\n",
       "    .dataframe tbody tr th {\n",
       "        vertical-align: top;\n",
       "    }\n",
       "\n",
       "    .dataframe thead th {\n",
       "        text-align: right;\n",
       "    }\n",
       "</style>\n",
       "<table border=\"1\" class=\"dataframe\">\n",
       "  <thead>\n",
       "    <tr style=\"text-align: right;\">\n",
       "      <th></th>\n",
       "      <th>User</th>\n",
       "      <th>Follows</th>\n",
       "      <th>Following_Time</th>\n",
       "      <th>ts</th>\n",
       "    </tr>\n",
       "  </thead>\n",
       "  <tbody>\n",
       "    <tr>\n",
       "      <th>0</th>\n",
       "      <td>roxanefeller</td>\n",
       "      <td>cathcooney</td>\n",
       "      <td>2019-06-13 05:59:58</td>\n",
       "      <td>1560405598</td>\n",
       "    </tr>\n",
       "    <tr>\n",
       "      <th>1</th>\n",
       "      <td>andyglittle</td>\n",
       "      <td>charleskod</td>\n",
       "      <td>2019-07-14 10:07:29</td>\n",
       "      <td>1563098849</td>\n",
       "    </tr>\n",
       "  </tbody>\n",
       "</table>\n",
       "</div>"
      ],
      "text/plain": [
       "           User     Follows      Following_Time          ts\n",
       "0  roxanefeller  cathcooney 2019-06-13 05:59:58  1560405598\n",
       "1   andyglittle  charleskod 2019-07-14 10:07:29  1563098849"
      ]
     },
     "execution_count": 8,
     "metadata": {},
     "output_type": "execute_result"
    }
   ],
   "source": [
    "from datetime import datetime\n",
    "import numpy as np\n",
    "\n",
    "twsample['Post_Time'] = pd.to_datetime(twsample['Post_Time'])\n",
    "twsample['ts'] = twsample.Post_Time.values.astype(np.int64) // 10 ** 9\n",
    "\n",
    "relations['Following_Time'] = pd.to_datetime(relations['Following_Time'])\n",
    "relations['ts'] = relations.Following_Time.values.astype(np.int64) // 10 ** 9\n",
    "relations.head(2)"
   ]
  },
  {
   "cell_type": "markdown",
   "metadata": {},
   "source": [
    "Before populating the database, I leave a commented line here in case you want to delete the current contents of the database."
   ]
  },
  {
   "cell_type": "code",
   "execution_count": 11,
   "metadata": {},
   "outputs": [
    {
     "data": {
      "text/plain": [
       "True"
      ]
     },
     "execution_count": 11,
     "metadata": {},
     "output_type": "execute_result"
    }
   ],
   "source": [
    "redis_db.flushdb()"
   ]
  },
  {
   "cell_type": "markdown",
   "metadata": {},
   "source": [
    "We get the unique users to store them all at once."
   ]
  },
  {
   "cell_type": "code",
   "execution_count": 12,
   "metadata": {},
   "outputs": [],
   "source": [
    "unique_users = set(list(pd.unique(twsample['User'])) + list(pd.unique(relations['User'])) + list(pd.unique(relations['Follows'])) )\n",
    "\n",
    "for user in unique_users:\n",
    "    new_user(user)"
   ]
  },
  {
   "cell_type": "markdown",
   "metadata": {},
   "source": [
    "This is what the database looks like after populating it with users:\n",
    "\n",
    "<img src=\"images/users.png\" width=\"700\" />\n",
    "<img src=\"images/user-id.png\" width=\"700\" />\n",
    "<img src=\"images/userid.png\" width=\"700\" />"
   ]
  },
  {
   "cell_type": "markdown",
   "metadata": {},
   "source": [
    "Once the users have been added, we can store the relationships and posts:"
   ]
  },
  {
   "cell_type": "code",
   "execution_count": 13,
   "metadata": {},
   "outputs": [],
   "source": [
    "for index,row in relations.iterrows():\n",
    "    follow(row['User'],row['Follows'],row['ts'])"
   ]
  },
  {
   "cell_type": "markdown",
   "metadata": {},
   "source": [
    "This is what the database looks like after populating it with relationships:\n",
    "\n",
    "<img src=\"images/following.png\" width=\"700\" />\n",
    "<img src=\"images/followers.png\" width=\"700\" />"
   ]
  },
  {
   "cell_type": "code",
   "execution_count": 15,
   "metadata": {},
   "outputs": [],
   "source": [
    "for index, row in twsample.iterrows():\n",
    "    new_post(row['User'],row['Tweet_Content'],row['ts'])"
   ]
  },
  {
   "cell_type": "markdown",
   "metadata": {},
   "source": [
    "This is what the database looks like after populating it with relationships:\n",
    "\n",
    "<img src=\"images/posts-id.png\" width=\"700\" />\n",
    "<img src=\"images/post.png\" width=\"700\" />\n",
    "<img src=\"images/postid.png\" width=\"700\" />"
   ]
  },
  {
   "cell_type": "markdown",
   "metadata": {},
   "source": [
    "Fully populated, the following numbers are observed in each hashmap, sorted set and counters:\n",
    "\n",
    "<img src=\"images/poblada.png\" width=\"150\" />"
   ]
  },
  {
   "cell_type": "markdown",
   "metadata": {},
   "source": [
    "### 3.Testing the databases\n",
    "\n",
    "To finish this task, the functions **obtain_followers**, **obtain_followings** and **obtain_timeline** must be created to verify if the system is working correctly.\n",
    "<br>\n",
    "Among the elements to take into account in these functions, we have the following:\n",
    "- **get_followers**: It will receive a user name and will return or print all the user names that follow him/her and when they started following him/her, but in date format, ordered in time.\n",
    "- get_followings**: A function analogous to the previous one but with the users a user follows.\n",
    "- get_timeline**: This function receives a user name and a boolean that determines whether we want to show the user's own tweets or not."
   ]
  },
  {
   "cell_type": "code",
   "execution_count": 16,
   "metadata": {},
   "outputs": [],
   "source": [
    "'''\n",
    "    This function receives the user name in followed.\n",
    "    It searches for the user's identifier.\n",
    "    If it exists, it searches for users using the zrange function, since we chose to store them as a sorted set.\n",
    "    Thanks to this it is possible to obtain the sorted users, in this case, from newest to oldest user.\n",
    "    The statement did not indicate whether it had to be like this, or in reverse order.\n",
    "    After obtaining this list, I store it in a list, followers_l, which I can then display when calling the function.\n",
    "    To display it correctly, it is recommended to call the function in the following way:\n",
    "    \n",
    "    pd.DataFrame(get_followers(\"animalhealthEU\"))\n",
    "    \n",
    "    It should be noted that the timestamp had to be converted to date using datetime.utcfromtimestamp.\n",
    "    Without utc there was a 2 hour time offset.\n",
    "'''\n",
    "def get_followers(followed):\n",
    "    followed_id = redis_db.hget('users',followed)\n",
    "    if(followed_id != None):\n",
    "        followers = redis_db.zrange('followers:'+str(followed_id),0,-1,desc=True,withscores=True)\n",
    "        followers_l = []\n",
    "        for follower in followers:\n",
    "            follower_l = []\n",
    "            follower_l.append(redis_db.hget('user:'+str(follower[0]),'name'))\n",
    "            follower_l.append(datetime.utcfromtimestamp(int(follower[1])).strftime(\"%d %b %Y %H:%M:%S\"))\n",
    "            followers_l.append(follower_l)\n",
    "        return followers_l\n",
    "    else:\n",
    "        logging.error(\"El usuario no existe\")"
   ]
  },
  {
   "cell_type": "code",
   "execution_count": 17,
   "metadata": {},
   "outputs": [],
   "source": [
    "'''\n",
    "    In this case, this function works exactly the same as the previous one, only to receive the users that a user follows.\n",
    "    It is recommended to call this function as follows:\n",
    "    \n",
    "    pd.DataFrame(get_followings(\"animalhealthEU\"))\n",
    "'''\n",
    "def get_followings(follower):\n",
    "    follower_id = redis_db.hget('users',follower)\n",
    "    if(follower_id != None):\n",
    "        followings = redis_db.zrange('following:'+str(follower_id),0,-1,desc=True,withscores=True)\n",
    "        followings_l = []\n",
    "        for followed in followings:\n",
    "            followed_l = []\n",
    "            followed_l.append(redis_db.hget('user:'+str(followed[0]),'name'))\n",
    "            followed_l.append(datetime.utcfromtimestamp(int(followed[1])).strftime(\"%d %b %Y %H:%M:%S\"))\n",
    "            followings_l.append(followed_l)\n",
    "        return followings_l\n",
    "    else:\n",
    "        logging.error(\"El usuario no existe\")"
   ]
  },
  {
   "cell_type": "code",
   "execution_count": 18,
   "metadata": {},
   "outputs": [],
   "source": [
    "'''\n",
    "    Finally, get_timeline has been programmed.\n",
    "    We get the username from which we get the id.\n",
    "    If the user exists, then we search for tweets using sort.\n",
    "    Thanks to sort we get the tweets sorted and, in addition, we do as if it were a \"join\" with post: we get all the values of each tweet directly (the date, the date, the time, the time of the tweet).\n",
    "    directly all the values of each tweet (the date, the person who sent it and the message).\n",
    "    We have obtained the tweets in descending order on the understanding that on Twitter the newest tweets are seen first.\n",
    "    \n",
    "    After having obtained the tweets, I check:\n",
    "        - If Tweets_owns is false and the user sending the tweet I scroll through is different from the user I get the TL from, I show it or if tweets_owns is true, too.\n",
    "        This way I control whether to show tweets from the person I get the TL from or not.\n",
    "    \n",
    "    Going through each tweet:\n",
    "        - I generate a list, tweet_list, in which I collect the values of the 'message', 'timestamp' and 'sender' keys.\n",
    "        - I add the elements to the list in order: user, message, date.\n",
    "    \n",
    "    \n",
    "    It is recommended to call this function in the following way:\n",
    "    \n",
    "    pd.DataFrame(get_timeline(\"animalhealthEU\",True))\n",
    "    pd.DataFrame(get_timeline(\"animalhealthEU\",False))\n",
    "'''\n",
    "def get_timeline(username,own_tweets):\n",
    "    user_id = redis_db.hget('users',username)\n",
    "    if(user_id != None):\n",
    "        #tweets = redis_db.zrange('posts:'+str(user_id),0,-1,desc=False)\n",
    "        # Como he utilizado un conjunto ordenado, obtengo la misma salida si uso sort que si uso zrange\n",
    "        tweets = redis_db.sort(\"posts:\"+str(user_id), by=\"post:*->timestamp\",get=[\"post:*->timestamp\",\"post:*->sender\",\"post:*->message\"], groups=True, desc=True)\n",
    "        timeline = []\n",
    "        for tweet in tweets:\n",
    "            if((own_tweets == False and user_id != tweet[1]) or own_tweets):\n",
    "                tweet_list = []\n",
    "                msg = tweet[2]\n",
    "                ts = tweet[0]\n",
    "                sender_id = tweet[1]\n",
    "                sender_name = redis_db.hget('user:'+str(sender_id),'name')\n",
    "                date = datetime.utcfromtimestamp(int(ts)).strftime(\"%d %b %Y %H:%M:%S\")\n",
    "                tweet_list.append(sender_name)\n",
    "                tweet_list.append(msg)\n",
    "                tweet_list.append(date)\n",
    "                timeline.append(tweet_list)\n",
    "        return timeline\n",
    "    else:\n",
    "        logging.error(\"El usuario no existe\")"
   ]
  },
  {
   "cell_type": "markdown",
   "metadata": {},
   "source": [
    "Algunas pruebas realizadas con el conjunto de datos utilizado:"
   ]
  },
  {
   "cell_type": "code",
   "execution_count": 19,
   "metadata": {},
   "outputs": [
    {
     "data": {
      "text/html": [
       "<div>\n",
       "<style scoped>\n",
       "    .dataframe tbody tr th:only-of-type {\n",
       "        vertical-align: middle;\n",
       "    }\n",
       "\n",
       "    .dataframe tbody tr th {\n",
       "        vertical-align: top;\n",
       "    }\n",
       "\n",
       "    .dataframe thead th {\n",
       "        text-align: right;\n",
       "    }\n",
       "</style>\n",
       "<table border=\"1\" class=\"dataframe\">\n",
       "  <thead>\n",
       "    <tr style=\"text-align: right;\">\n",
       "      <th></th>\n",
       "      <th>0</th>\n",
       "      <th>1</th>\n",
       "    </tr>\n",
       "  </thead>\n",
       "  <tbody>\n",
       "    <tr>\n",
       "      <th>0</th>\n",
       "      <td>alkhalilkouma</td>\n",
       "      <td>01 Jul 2019 19:25:03</td>\n",
       "    </tr>\n",
       "    <tr>\n",
       "      <th>1</th>\n",
       "      <td>dkalnow</td>\n",
       "      <td>01 Jul 2019 08:40:26</td>\n",
       "    </tr>\n",
       "    <tr>\n",
       "      <th>2</th>\n",
       "      <td>charleskod</td>\n",
       "      <td>01 Jul 2019 07:27:58</td>\n",
       "    </tr>\n",
       "    <tr>\n",
       "      <th>3</th>\n",
       "      <td>afparron</td>\n",
       "      <td>01 Jun 2019 06:04:40</td>\n",
       "    </tr>\n",
       "  </tbody>\n",
       "</table>\n",
       "</div>"
      ],
      "text/plain": [
       "               0                     1\n",
       "0  alkhalilkouma  01 Jul 2019 19:25:03\n",
       "1        dkalnow  01 Jul 2019 08:40:26\n",
       "2     charleskod  01 Jul 2019 07:27:58\n",
       "3       afparron  01 Jun 2019 06:04:40"
      ]
     },
     "execution_count": 19,
     "metadata": {},
     "output_type": "execute_result"
    }
   ],
   "source": [
    "pd.DataFrame(get_followers(\"animalhealthEU\"))"
   ]
  },
  {
   "cell_type": "code",
   "execution_count": 21,
   "metadata": {},
   "outputs": [
    {
     "data": {
      "text/html": [
       "<div>\n",
       "<style scoped>\n",
       "    .dataframe tbody tr th:only-of-type {\n",
       "        vertical-align: middle;\n",
       "    }\n",
       "\n",
       "    .dataframe tbody tr th {\n",
       "        vertical-align: top;\n",
       "    }\n",
       "\n",
       "    .dataframe thead th {\n",
       "        text-align: right;\n",
       "    }\n",
       "</style>\n",
       "<table border=\"1\" class=\"dataframe\">\n",
       "  <thead>\n",
       "    <tr style=\"text-align: right;\">\n",
       "      <th></th>\n",
       "      <th>0</th>\n",
       "      <th>1</th>\n",
       "    </tr>\n",
       "  </thead>\n",
       "  <tbody>\n",
       "    <tr>\n",
       "      <th>0</th>\n",
       "      <td>dkalnow</td>\n",
       "      <td>27 Aug 2019 13:57:04</td>\n",
       "    </tr>\n",
       "    <tr>\n",
       "      <th>1</th>\n",
       "      <td>drshahrul80</td>\n",
       "      <td>19 Jul 2019 14:59:55</td>\n",
       "    </tr>\n",
       "  </tbody>\n",
       "</table>\n",
       "</div>"
      ],
      "text/plain": [
       "             0                     1\n",
       "0      dkalnow  27 Aug 2019 13:57:04\n",
       "1  drshahrul80  19 Jul 2019 14:59:55"
      ]
     },
     "execution_count": 21,
     "metadata": {},
     "output_type": "execute_result"
    }
   ],
   "source": [
    "pd.DataFrame(get_followings(\"animalhealthEU\"))"
   ]
  },
  {
   "cell_type": "code",
   "execution_count": null,
   "metadata": {},
   "outputs": [],
   "source": [
    "pd.DataFrame(get_followers(\"karin_stowell\"))"
   ]
  },
  {
   "cell_type": "code",
   "execution_count": null,
   "metadata": {},
   "outputs": [],
   "source": [
    "pd.DataFrame(get_followings(\"karin_stowell\"))"
   ]
  },
  {
   "cell_type": "code",
   "execution_count": null,
   "metadata": {},
   "outputs": [],
   "source": []
  },
  {
   "cell_type": "code",
   "execution_count": null,
   "metadata": {},
   "outputs": [],
   "source": [
    "pd.DataFrame(get_timeline(\"andyglittle\",True))"
   ]
  },
  {
   "cell_type": "code",
   "execution_count": null,
   "metadata": {},
   "outputs": [],
   "source": [
    "pd.DataFrame(get_timeline(\"afparron\",True))"
   ]
  },
  {
   "cell_type": "code",
   "execution_count": null,
   "metadata": {},
   "outputs": [],
   "source": [
    "pd.DataFrame(get_timeline(\"drshahrul80\",True))"
   ]
  },
  {
   "cell_type": "code",
   "execution_count": null,
   "metadata": {},
   "outputs": [],
   "source": [
    "pd.DataFrame(get_timeline(\"karin_stowell\",True))"
   ]
  },
  {
   "cell_type": "code",
   "execution_count": null,
   "metadata": {},
   "outputs": [],
   "source": [
    "pd.DataFrame(get_timeline(\"cathcooney\",True))"
   ]
  },
  {
   "cell_type": "code",
   "execution_count": null,
   "metadata": {},
   "outputs": [],
   "source": [
    "pd.DataFrame(get_timeline(\"dkalnow\",True))"
   ]
  },
  {
   "cell_type": "code",
   "execution_count": null,
   "metadata": {},
   "outputs": [],
   "source": [
    "pd.DataFrame(get_timeline(\"alkhalilkouma\",True))"
   ]
  },
  {
   "cell_type": "code",
   "execution_count": null,
   "metadata": {},
   "outputs": [],
   "source": [
    "pd.DataFrame(get_timeline(\"seers_helen\",True))"
   ]
  },
  {
   "cell_type": "code",
   "execution_count": null,
   "metadata": {},
   "outputs": [],
   "source": [
    "pd.DataFrame(get_timeline(\"seers_helen\",False))"
   ]
  },
  {
   "cell_type": "code",
   "execution_count": null,
   "metadata": {},
   "outputs": [],
   "source": [
    "pd.DataFrame(get_timeline(\"hanyshita\",True))"
   ]
  },
  {
   "cell_type": "code",
   "execution_count": null,
   "metadata": {},
   "outputs": [],
   "source": [
    "pd.DataFrame(get_timeline(\"hanyshita\",False))"
   ]
  },
  {
   "cell_type": "code",
   "execution_count": null,
   "metadata": {},
   "outputs": [],
   "source": [
    "pd.DataFrame(get_timeline(\"roxanefeller\",True))"
   ]
  },
  {
   "cell_type": "code",
   "execution_count": null,
   "metadata": {},
   "outputs": [],
   "source": [
    "pd.DataFrame(get_timeline(\"animalhealthEU\",True))"
   ]
  },
  {
   "cell_type": "code",
   "execution_count": null,
   "metadata": {},
   "outputs": [],
   "source": [
    "pd.DataFrame(get_timeline(\"charleskod\",True))"
   ]
  },
  {
   "cell_type": "code",
   "execution_count": null,
   "metadata": {},
   "outputs": [],
   "source": []
  },
  {
   "cell_type": "markdown",
   "metadata": {},
   "source": []
  },
  {
   "cell_type": "code",
   "execution_count": null,
   "metadata": {},
   "outputs": [],
   "source": []
  },
  {
   "cell_type": "code",
   "execution_count": null,
   "metadata": {},
   "outputs": [],
   "source": []
  },
  {
   "cell_type": "code",
   "execution_count": null,
   "metadata": {},
   "outputs": [],
   "source": []
  }
 ],
 "metadata": {
  "kernelspec": {
   "display_name": "Python 3",
   "language": "python",
   "name": "python3"
  },
  "language_info": {
   "codemirror_mode": {
    "name": "ipython",
    "version": 3
   },
   "file_extension": ".py",
   "mimetype": "text/x-python",
   "name": "python",
   "nbconvert_exporter": "python",
   "pygments_lexer": "ipython3",
   "version": "3.6.9"
  }
 },
 "nbformat": 4,
 "nbformat_minor": 4
}
